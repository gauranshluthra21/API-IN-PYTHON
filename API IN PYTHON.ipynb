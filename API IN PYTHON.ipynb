{
 "cells": [
  {
   "cell_type": "markdown",
   "id": "bd73862d",
   "metadata": {},
   "source": [
    "# API [APPLICATION PROGRAMMING INTERFACE]"
   ]
  },
  {
   "cell_type": "markdown",
   "id": "deca614f",
   "metadata": {},
   "source": [
    "Is a set of rules and tools that allow different software applications to communicate and work together effectively."
   ]
  },
  {
   "cell_type": "markdown",
   "id": "9d9e7899",
   "metadata": {},
   "source": [
    "Example --> We order food in a restaurant in where the food is prepared in the kitchen and so assume we are the user and kitchen which is preparing the food is the software or the datebase we want o acess and so we need an API to communicate our response to and fro from the database and so waiter in this example will be the API who will be taking our order to kitchen and when the food will be ready will bring it to us."
   ]
  },
  {
   "cell_type": "raw",
   "id": "ab594ee6",
   "metadata": {},
   "source": [
    "More example of API could be google maps, facebook, weather API. [Facebook act as an API because there are many apps that give us an option to either sign up via gmail id or facebook so facebook and gamil will be acting as an API]"
   ]
  },
  {
   "cell_type": "markdown",
   "id": "df06fdbe",
   "metadata": {},
   "source": [
    "# HTTP"
   ]
  },
  {
   "cell_type": "markdown",
   "id": "6b4c5509",
   "metadata": {},
   "source": [
    "stands for Hypertext Transfer Protocol. It is the underlying protocol used for communication between web browsers (clients) and web servers on the internet."
   ]
  },
  {
   "cell_type": "raw",
   "id": "a256bfe8",
   "metadata": {},
   "source": [
    "Methods of HTTP are :\n",
    "    \n",
    "    Get --> only read operation\n",
    "    \n",
    "    Post --> only write operation "
   ]
  },
  {
   "cell_type": "markdown",
   "id": "370a35d5",
   "metadata": {},
   "source": [
    "# HTTP Libraries"
   ]
  },
  {
   "cell_type": "markdown",
   "id": "35f17f40",
   "metadata": {},
   "source": [
    "1. httplib\n",
    "2. urllib\n",
    "3. requests (this is the one we will be using)"
   ]
  },
  {
   "cell_type": "code",
   "execution_count": 1,
   "id": "1370dbd5",
   "metadata": {},
   "outputs": [],
   "source": [
    "import requests"
   ]
  },
  {
   "cell_type": "code",
   "execution_count": 2,
   "id": "99cb97f2",
   "metadata": {},
   "outputs": [
    {
     "name": "stdout",
     "output_type": "stream",
     "text": [
      "200\n"
     ]
    }
   ],
   "source": [
    "response = requests.get('https://www.codingninjas.in/api/v3/courses')\n",
    "print(response.status_code)  # if output is 200 --> API call is successful\n",
    "                             # if output is 404 --> API call is failed"
   ]
  },
  {
   "cell_type": "code",
   "execution_count": 3,
   "id": "3fc405d6",
   "metadata": {},
   "outputs": [
    {
     "name": "stdout",
     "output_type": "stream",
     "text": [
      "ISO-8859-1\n"
     ]
    }
   ],
   "source": [
    "print(response.encoding)"
   ]
  },
  {
   "cell_type": "markdown",
   "id": "38175253",
   "metadata": {},
   "source": [
    "Encoding is representing data in a specific format that is suitable for transmission or storage. Encoding is typically used to ensure that data can be successfully transmitted or stored, especially when dealing with special characters, binary data, or different character sets."
   ]
  },
  {
   "cell_type": "code",
   "execution_count": 4,
   "id": "69b77175",
   "metadata": {},
   "outputs": [
    {
     "name": "stdout",
     "output_type": "stream",
     "text": [
      "<!DOCTYPE html><html lang=\"en\"><head>\n",
      "    <meta charset=\"utf-8\">\n",
      "    <title>Coding Ninjas</title>\n",
      "\n",
      "    <meta name=\"google-site-verification\" content=\"ASe_HQRsu8j61tGt95RROjXi07M380nMuoJ0Mu9rytk\">\n",
      "    <meta name=\"title\" content=\"Coding Ninjas\">\n",
      "    <meta property=\"og:title\" content=\"Coding Ninjas\">\n",
      "    <meta name=\"description\" content=\"Best Programming Institute in India\">\n",
      "    <meta property=\"og:description\" content=\"Best Programming Institute in India\">\n",
      "    <meta property=\"og:image\" content=\"https://files.codingninjas.in/0000000000000723.jpg\">\n",
      "\n",
      "    <script>\n",
      "      let windowLoaded = false;\n",
      "      window.pushEventsToQueue = true;\n",
      "      window.gtmEventQueue = [];\n",
      "      window.gtmEcommerceQueue = [];\n",
      "      window.gtmScriptInit = false;\n",
      "      document.addEventListener('DOMContentLoaded', () => {\n",
      "        const nonDelayedPath = location.pathname.includes('/checkout');\n",
      "        let delayTime = nonDelayedPath ? 0 : 7000;\n",
      "        if (!nonDelayedPath && window.navigator.userAgentData) {\n",
      "          delayTime = window.navigator.userAgentData.mobile ? 10000 : 5000;\n",
      "        }\n",
      "        if (window.gtmEventQueue === undefined) {\n",
      "          window.gtmEventQueue = [];\n",
      "        }\n",
      "        if (window.gtmEcommerceQueue === undefined) {\n",
      "          window.gtmEcommerceQueue = [];\n",
      "        }\n",
      "        document.addEventListener('DOMContentLoaded', () => {\n",
      "          setTimeout(initGTM, delayTime);\n",
      "        });\n",
      "        document.addEventListener('scroll', initGTM);\n",
      "        document.addEventListener('mousemove', initGTM);\n",
      "        document.addEventListener('touchstart', initGTM);\n",
      "        function initGTM() {\n",
      "          if (window.gtmScriptInit) {\n",
      "            return false;\n",
      "          }\n",
      "          const event = new Event('gtm_script_loaded');\n",
      "          window.gtmScriptInit = true; // flag to ensure script does not get added to DOM more than once.\n",
      "          (function (w, d, s, l, i) {\n",
      "            w[l] = w[l] || [];\n",
      "            w[l].push({ 'gtm.start': new Date().getTime(), event: 'gtm.js' });\n",
      "            var f = d.getElementsByTagName(s)[0],\n",
      "              j = d.createElement(s),\n",
      "              dl = l != 'dataLayer' ? '&l=' + l : '';\n",
      "            j.async = true;\n",
      "            j.src =\n",
      "              'https://www.googletagmanager.com/gtm.js?id=' +\n",
      "              i +\n",
      "              dl +\n",
      "              '&gtm_auth=2Obs6MKGpBvVcCJFBFgP7A&gtm_preview=env-325&gtm_cookies_win=x';\n",
      "            f.parentNode.insertBefore(j, f);\n",
      "            j.onload = () => {\n",
      "              window.dispatchEvent(event);\n",
      "              window.gtmScriptInit = true; // flag to ensure script does not get added to DOM more than once\n",
      "              window.pushEventsToQueue = false;\n",
      "            };\n",
      "          })(window, document, 'script', 'dataLayer', 'GTM-NSRR859');\n",
      "        }\n",
      "      });\n",
      "    </script>\n",
      "\n",
      "    <base href=\"/\">\n",
      "    <meta name=\"viewport\" content=\"width=device-width, initial-scale=1.0\">\n",
      "    <meta name=\"theme-color\" content=\"#4e4e4e\">\n",
      "    <link rel=\"manifest\" href=\"manifest.json\">\n",
      "    <link rel=\"icon\" type=\"image/x-icon\" href=\"./favicon.ico\">\n",
      "    <link rel=\"mask-icon\" href=\"assets-landing/icons/icon-192x192.png\" color=\"#4e4e4e\">\n",
      "    <link rel=\"stylesheet\" href=\"https://cdn.jsdelivr.net/npm/animate.css@3.5.2/animate.min.css\" media=\"print\" onload=\"this.media='all'\">\n",
      "    <link rel=\"preconnect\" href=\"https://s3.amazonaws.com\">\n",
      "    <link rel=\"preconnect\" href=\"https://ninjasfiles.s3.amazonaws.com\">\n",
      "    <link rel=\"preconnect\" href=\"https://lh3.googleusercontent.com\">\n",
      "    <link rel=\"preconnect\" href=\"https://connect.facebook.net\">\n",
      "    <link rel=\"preconnect\" href=\"https://files.codingninjas.com\">\n",
      "    <link rel=\"preconnect\" href=\"https://cds.taboola.com\">\n",
      "    <link rel=\"preconnect\" href=\"https://www.google.com\">\n",
      "    <link rel=\"preconnect\" href=\"https://www.facebook.com\">\n",
      "    <link rel=\"preconnect\" href=\"https://apis.google.com\">\n",
      "    <link rel=\"preconnect\" href=\"https://www.google.co.in\">\n",
      "    <link rel=\"preconnect\" href=\"https://googleads.g.doubleclick.net\">\n",
      "    <link rel=\"preconnect\" href=\" https://accounts.google.com\">\n",
      "    <link rel=\"preconnect\" href=\" https://static.cloudflareinsights.com\">\n",
      "    <link rel=\"preconnect\" href=\"https://googleads.g.doubleclick.net\">\n",
      "    <link rel=\"preconnect\" href=\"https://i.ytimg.com\">\n",
      "    <link rel=\"preconnect\" href=\"https://tr.snapchat.com\">\n",
      "    <link rel=\"preconnect\" href=\"https://www.googleadservices.com\">\n",
      "    <link rel=\"preconnect\" href=\" https://code.jivosite.com\">\n",
      "    <link rel=\"preconnect\" href=\"https://www.googletagmanager.com\">\n",
      "    <link rel=\"preload\" href=\"https://files.codingninjas.com/group-3931-8996.svg\" as=\"image\">\n",
      "    <link rel=\"preload\" href=\"https://files.codingninjas.in/438375-17407.webp\" as=\"image\">\n",
      "    <link rel=\"preload\" href=\"https://fonts.gstatic.com/s/materialicons/v70/flUhRq6tzZclQEJ-Vdg-IuiaDsNcIhQ8tQ.woff2\" as=\"font\" type=\"font/woff2\" crossorigin=\"\">\n",
      "    <link rel=\"preload\" href=\"https://fonts.gstatic.com/s/mulish/v3/1Ptwg83HX_SGhgqk2hAjQlW_mEuZ0FsSKeOfGZQ8DzNVwd6k.woff\" as=\"font\" type=\"font/woff\" crossorigin=\"\">\n",
      "\n",
      "    <link rel=\"preload\" href=\"https://files.codingninjas.in/72e3f188-79a1-465f-90ca-27262d769841-8505.png\" as=\"image\">\n",
      "    <style>\n",
      "      @font-face {\n",
      "        font-family: 'Mulish';\n",
      "        font-style: italic;\n",
      "        font-weight: 400;\n",
      "        src: url(https://fonts.gstatic.com/s/mulish/v3/1Ptwg83HX_SGhgqk2hAjQlW_mEuZ0FsSKeOfGZQ8DzNVwd6k.woff)\n",
      "          format('woff');\n",
      "      }\n",
      "      @font-face {\n",
      "        font-family: 'Mulish';\n",
      "        font-style: normal;\n",
      "        font-weight: 300;\n",
      "        font-display: swap;\n",
      "        src: url(https://fonts.gstatic.com/s/mulish/v3/1Ptvg83HX_SGhgqk3wotYKNnBQ.woff2)\n",
      "          format('woff2');\n",
      "      }\n",
      "      @font-face {\n",
      "        font-family: 'Mulish';\n",
      "        font-style: normal;\n",
      "        font-weight: 400;\n",
      "        font-display: swap;\n",
      "        src: url(https://fonts.gstatic.com/s/mulish/v3/1Ptvg83HX_SGhgqk3wotYKNnBQ.woff2)\n",
      "          format('woff');\n",
      "      }\n",
      "      @font-face {\n",
      "        font-family: 'Mulish';\n",
      "        font-style: normal;\n",
      "        font-weight: 600;\n",
      "        font-display: swap;\n",
      "        src: url(https://fonts.gstatic.com/s/mulish/v3/1Ptvg83HX_SGhgqk3wotYKNnBQ.woff2)\n",
      "          format('woff');\n",
      "      }\n",
      "      @font-face {\n",
      "        font-family: 'Mulish';\n",
      "        font-style: normal;\n",
      "        font-weight: 700;\n",
      "        font-display: swap;\n",
      "        src: url(https://fonts.gstatic.com/s/mulish/v3/1Ptvg83HX_SGhgqk3wotYKNnBQ.woff2)\n",
      "          format('woff');\n",
      "      }\n",
      "      @font-face {\n",
      "        font-family: 'Material Icons';\n",
      "        font-style: normal;\n",
      "        font-weight: 400;\n",
      "        src: url(https://fonts.gstatic.com/s/materialicons/v70/flUhRq6tzZclQEJ-Vdg-IuiaDsNcIhQ8tQ.woff2)\n",
      "          format('woff2');\n",
      "      }\n",
      "      .material-icons {\n",
      "        font-family: 'Material Icons';\n",
      "        font-weight: normal;\n",
      "        font-style: normal;\n",
      "        font-size: 24px;\n",
      "        line-height: 1;\n",
      "        letter-spacing: normal;\n",
      "        text-transform: none;\n",
      "        display: inline-block;\n",
      "        white-space: nowrap;\n",
      "        word-wrap: normal;\n",
      "        direction: ltr;\n",
      "        -webkit-font-feature-settings: 'liga';\n",
      "        -webkit-font-smoothing: antialiased;\n",
      "      }\n",
      "\n",
      "      .zen-grid-section-v2 {\n",
      "        padding-left: 16px;\n",
      "        padding-right: 16px;\n",
      "      }\n",
      "\n",
      "      @media screen and (min-width: 600px) {\n",
      "        .zen-grid-section-v2 {\n",
      "          padding-left: 24px;\n",
      "          padding-right: 24px;\n",
      "        }\n",
      "      }\n",
      "\n",
      "      @media screen and (min-width: 960px) {\n",
      "        .zen-grid-section-v2 {\n",
      "          padding-left: 144px;\n",
      "          padding-right: 144px;\n",
      "        }\n",
      "      }\n",
      "    </style>\n",
      "    <link href=\"/jivosite/jivosite.css\" rel=\"stylesheet\">\n",
      "    <script src=\"/jivosite/jivosite.js\" type=\"text/javascript\"></script>\n",
      "    <script type=\"text/javascript\" src=\"https://checkout.razorpay.com/v1/razorpay.js\"></script>\n",
      "\n",
      "    <!-- Start VWO Async SmartCode -->\n",
      "    <script type=\"text/javascript\" id=\"vwoCode\">\n",
      "      window._vwo_code =\n",
      "        window._vwo_code ||\n",
      "        (function () {\n",
      "          var account_id = 659272,\n",
      "            version = 1.4,\n",
      "            settings_tolerance = 2000,\n",
      "            library_tolerance = 2500,\n",
      "            use_existing_jquery = false,\n",
      "            is_spa = 1,\n",
      "            hide_element = 'body',\n",
      "            /* DO NOT EDIT BELOW THIS LINE */\n",
      "            f = false,\n",
      "            d = document,\n",
      "            vwoCodeEl = document.querySelector('#vwoCode'),\n",
      "            code = {\n",
      "              use_existing_jquery: function () {\n",
      "                return use_existing_jquery;\n",
      "              },\n",
      "              library_tolerance: function () {\n",
      "                return library_tolerance;\n",
      "              },\n",
      "              finish: function () {\n",
      "                if (!f) {\n",
      "                  f = true;\n",
      "                  var e = d.getElementById('_vis_opt_path_hides');\n",
      "                  if (e) e.parentNode.removeChild(e);\n",
      "                }\n",
      "              },\n",
      "              finished: function () {\n",
      "                return f;\n",
      "              },\n",
      "              load: function (e) {\n",
      "                var t = d.createElement('script');\n",
      "                t.fetchPriority = 'high';\n",
      "                t.src = e;\n",
      "                t.type = 'text/javascript';\n",
      "                t.innerText;\n",
      "                t.onerror = function () {\n",
      "                  _vwo_code.finish();\n",
      "                };\n",
      "                d.getElementsByTagName('head')[0].appendChild(t);\n",
      "              },\n",
      "              getVersion: function () {\n",
      "                return version;\n",
      "              },\n",
      "              getMatchedCookies: function (e) {\n",
      "                var t = [];\n",
      "                if (document.cookie) {\n",
      "                  t = document.cookie.match(e) || [];\n",
      "                }\n",
      "                return t;\n",
      "              },\n",
      "              getCombinationCookie: function () {\n",
      "                var e = code.getMatchedCookies(\n",
      "                  /(?:^|;)\\s?(_vis_opt_exp_\\d+_combi=[^;$]*)/gi\n",
      "                );\n",
      "                e = e.map(function (e) {\n",
      "                  try {\n",
      "                    var t = decodeURIComponent(e);\n",
      "                    if (!/_vis_opt_exp_\\d+_combi=(?:\\d+,?)+\\s*$/.test(t)) {\n",
      "                      return '';\n",
      "                    }\n",
      "                    return t;\n",
      "                  } catch (e) {\n",
      "                    return '';\n",
      "                  }\n",
      "                });\n",
      "                var i = [];\n",
      "                e.forEach(function (e) {\n",
      "                  var t = e.match(/([\\d,]+)/g);\n",
      "                  t && i.push(t.join('-'));\n",
      "                });\n",
      "                return i.join('|');\n",
      "              },\n",
      "              init: function () {\n",
      "                window.settings_timer = setTimeout(function () {\n",
      "                  _vwo_code.finish();\n",
      "                }, settings_tolerance);\n",
      "                var e = d.createElement('style'),\n",
      "                  t = hide_element\n",
      "                    ? hide_element +\n",
      "                      '{opacity:0 !important;filter:alpha(opacity=0) !important;background:none !important;}'\n",
      "                    : '',\n",
      "                  i = d.getElementsByTagName('head')[0];\n",
      "                e.setAttribute('id', '_vis_opt_path_hides');\n",
      "                vwoCodeEl && e.setAttribute('nonce', vwoCodeEl.nonce);\n",
      "                e.setAttribute('type', 'text/css');\n",
      "                if (e.styleSheet) e.styleSheet.cssText = t;\n",
      "                else e.appendChild(d.createTextNode(t));\n",
      "                i.appendChild(e);\n",
      "                var n = this.getCombinationCookie();\n",
      "                this.load(\n",
      "                  'https://dev.visualwebsiteoptimizer.com/j.php?a=' +\n",
      "                    account_id +\n",
      "                    '&u=' +\n",
      "                    encodeURIComponent(d.URL) +\n",
      "                    '&f=' +\n",
      "                    +is_spa +\n",
      "                    '&vn=' +\n",
      "                    version +\n",
      "                    (n ? '&c=' + n : '')\n",
      "                );\n",
      "                return settings_timer;\n",
      "              },\n",
      "            };\n",
      "          window._vwo_settings_timer = code.init();\n",
      "          return code;\n",
      "        })();\n",
      "    </script>\n",
      "    <!-- End VWO Async SmartCode -->\n",
      "  <style>:root{--green-900:#00631f;--green-800:#00752e;--green-700:#007f36;--green-600:#008a3e;--green-500:#009245;--green-400:#26a261;--green-350:#7fd7a4;--green-300:#4db37d;--green-250:#65b168;--green-200:#80c9a2;--green-100:#b3dec7;--green-70:#37833b;--green-60:#43a047;--green-50:#e0f2e9;--green-30:#d2f7f2;--green-20:#cbe5cc;--green-A100:#3f6864;--green-A70:#0bb09f;--grey-B1000:#1e2124;--grey-B500:#1a202c;--grey-B100:#8e9091;--grey-1000:#19191d;--grey-950:#282b30;--grey-900:#212121;--grey-800:#424242;--grey-750:#424549;--grey-700:#616161;--grey-600:#757575;--grey-500:#9e9e9e;--grey-400:#bdbdbd;--grey-300:#e0e0e0;--grey-200:#eeeeee;--grey-100:#f5f5f5;--grey-90:#292a31;--grey-80:#3a3a44;--grey-70:#4a4b57;--grey-60:#5a5b6a;--grey-50:#fafafa;--grey-40:#9696a0;--grey-30:#b4b4bb;--grey-20:#d2d2d6;--grey-10:#e1e1e3;--grey-5:#f0f0f1;--grey-0:#f9f9fa;--grey-A800:#1e2124;--grey-A700:#000000;--grey-A650:#626466;--grey-A350:#bbbcbd;--grey-A300:#9696a0;--grey-A600:#19191d;--grey-A500:#787885;--grey-A450:#d2d3d3;--grey-A400:#343434;--grey-A250:#f1f2f2;--grey-A200:#d0d0d0;--grey-A150:#d9d9d9;--grey-A100:#ffffff;--orange-1000:#fb813e;--orange-900:#f6430f;--orange-850:#ff6060;--orange-800:#f85618;--orange-700:#f9601e;--orange-600:#f96b24;--orange-500:#fa7328;--orange-550:#fb813e;--orange-400:#fb8848;--orange-300:#fc9d69;--orange-200:#fdb994;--orange-100:#fed5bf;--orange-90:#af511c;--orange-80:#c85c20;--orange-70:#e16824;--orange-60:#fa7328;--orange-50:#feeee5;--orange-40:#fb8f53;--orange-30:#fc9d69;--orange-20:#fdc7a9;--orange-10:#fed5bf;--orange-5:#fff1ea;--orange-0:#faf7f2;--orange-A700:#fbab7e;--orange-A600:#fca16e;--orange-A500:#fff9f5;--red-900:#b30108;--red-800:#be0110;--red-700:#c40114;--red-600:#cb0218;--red-500:#d0021b;--red-400:#d7283d;--red-300:#de4e5f;--red-200:#e8818d;--red-100:#f1b3bb;--red-60:#f44336;--red-50:#f9e1e4;--red-A600:#f6655a;--purple-900:#3400e2;--purple-800:#4600e7;--purple-700:#5000e9;--purple-600:#5a00ec;--purple-500:#6200ee;--purple-400:#7a26f1;--purple-300:#914df3;--purple-200:#b180f7;--purple-100:#d0b3fa;--purple-70:#8b7fd7;--purple-60:#2f154c;--purple-50:#421d68;--purple-40:#7533b7;--purple-30:#dee7fc;--purple-10:#faf6ff;--purple-A100:#82455e;--purple-LIGHT1300:#fafafd;--purple-LIGHT500:#5341a0;--purple-LIGHT300:#3d3465;--pink-900:#8a004e;--pink-800:#b00054;--pink-700:#c50058;--pink-600:#db005c;--pink-500:#ec005e;--pink-400:#ee0978;--pink-300:#f14d91;--pink-250:#d781ac;--pink-200:#f484b1;--pink-100:#f8b5d0;--pink-60:#f1639e;--pink-50:#fce2ec;--pink-30:#fed7e7;--blue-1300:#fafbfe;--blue-1100:#30374d;--blue-1000:#d5dff9;--blue-700:#425996;--blue-600:#5780e9;--blue-500:#112c67;--blue-400:#e6f0ff;--blue-100:#435377;--blue-70:#496ec5;--blue-60:#557cd9;--blue-50:#04439f;--blue-40:#0a6dff;--blue-10:#b6d3ff;--blue-5:#f3f8ff;--blue-A100:#435377;--blue-A200:#f5f7fe;--blue-A300:#5780e9;--violet-60:#1d195e;--yellow-1200:#fffbf4;--yellow-700:#d1941a;--yellow-500:#ffc147;--yellow-100:#f3a805;--yellow-70:#eaa30a;--yellow-50:#fff8ea;--yellow-40:#d7a07f}body{--zen-neutral-100:#1e2124;--zen-neutral-200:#23262a;--zen-neutral-300:#282b30;--zen-neutral-400:#36393e;--zen-neutral-500:#424549;--zen-neutral-600:#626466;--zen-neutral-700:#787a7c;--zen-neutral-800:#8e9091;--zen-neutral-900:#a5a6a7;--zen-neutral-1000:#bbbcbd;--zen-neutral-1100:#d2d3d3;--zen-neutral-1200:#e8e9e9;--zen-neutral-1300:#ffffff;--zen-neutral-1400:#f8f8f8;--zen-neutral-1500:#f1f2f2;--zen-primary-25:#282627;--zen-primary-50:#332c2c;--zen-primary-100:#483733;--zen-primary-200:#5e3f35;--zen-primary-300:#734836;--zen-primary-400:#9c5a38;--zen-primary-500:#c66b3a;--zen-primary-600:#fb813e;--zen-primary-700:#fca16e;--zen-primary-800:#fdba95;--zen-primary-900:#fed3bc;--zen-primary-1000:#fedfcf;--zen-primary-1100:#feece2;--zen-primary-1200:#fff7f3;--zen-primary-1300:#fffbf8;--zen-blue-25:#2a2d36;--zen-blue-50:#2b303c;--zen-blue-100:#30374d;--zen-blue-200:#35405f;--zen-blue-300:#394871;--zen-blue-400:#425996;--zen-blue-500:#4c6bbb;--zen-blue-600:#5780e9;--zen-blue-700:#81a0ef;--zen-blue-800:#a3b9f3;--zen-blue-900:#c4d3f7;--zen-blue-1000:#d5dff9;--zen-blue-1100:#e6ecfc;--zen-blue-1200:#f5f7fe;--zen-blue-1300:#fafbfe;--zen-purple-25:#2a2c35;--zen-purple-50:#2c2d39;--zen-purple-100:#322f47;--zen-purple-200:#383156;--zen-purple-300:#3d3465;--zen-purple-400:#483b82;--zen-purple-500:#5341a0;--zen-purple-600:#6249c5;--zen-purple-700:#8977d4;--zen-purple-800:#a99bdf;--zen-purple-900:#c8bfeb;--zen-purple-1000:#d8d1f0;--zen-purple-1100:#e8e4f6;--zen-purple-1200:#f6f4fb;--zen-purple-1300:#fafafd;--zen-red-25:#2e2d31;--zen-red-50:#352e33;--zen-red-100:#483337;--zen-red-200:#5d383c;--zen-red-300:#713e3f;--zen-red-400:#994a47;--zen-red-500:#c2564f;--zen-red-600:#f6655a;--zen-red-700:#f88c83;--zen-red-800:#faaaa4;--zen-red-900:#fcc9c5;--zen-red-1000:#fdd8d6;--zen-red-1100:#fee8e6;--zen-red-1200:#fff6f5;--zen-red-1300:#fffafa;--zen-yellow-25:#2f2f31;--zen-yellow-50:#353432;--zen-yellow-100:#494135;--zen-yellow-200:#5f4f37;--zen-yellow-300:#745e39;--zen-yellow-400:#9e7d3d;--zen-yellow-500:#c99b41;--zen-yellow-600:#ffc147;--zen-yellow-700:#ffd175;--zen-yellow-800:#ffdd9a;--zen-yellow-900:#ffe9bf;--zen-yellow-1000:#ffefd1;--zen-yellow-1100:#fff6e4;--zen-yellow-1200:#fffbf4;--zen-yellow-1300:#fffdfa;--zen-green-25:#2a2f32;--zen-green-50:#2c3334;--zen-green-100:#323e39;--zen-green-200:#384b3f;--zen-green-300:#3e5944;--zen-green-400:#49744f;--zen-green-500:#568f5a;--zen-green-600:#65b168;--zen-green-700:#8cc58e;--zen-green-800:#aad4ac;--zen-green-900:#c9e4ca;--zen-green-1000:#d8ebd9;--zen-green-1100:#e8f3e8;--zen-green-1200:#f6faf6;--zen-green-1300:#fafdfa;--zen-teal-25:#202b2f;--zen-teal-50:#192a2e;--zen-teal-100:#02292a;--zen-teal-200:#034545;--zen-teal-300:#046061;--zen-teal-400:#057b7c;--zen-teal-500:#069697;--zen-teal-600:#33a9a9;--zen-teal-700:#60bcbc;--zen-teal-800:#8dcfcf;--zen-teal-900:#bbe2e2;--zen-teal-1000:#d1ebec;--zen-teal-1100:#e8f5f5;--zen-teal-1200:#f6fbfb;--zen-teal-1300:#fafdfd;--zen-pink-25:#2e2c33;--zen-pink-50:#342e36;--zen-pink-100:#473240;--zen-pink-200:#5b3849;--zen-pink-300:#6e3e53;--zen-pink-400:#964966;--zen-pink-500:#bd547a;--zen-pink-600:#ef6292;--zen-pink-700:#f389ad;--zen-pink-800:#f6a9c3;--zen-pink-900:#f9c8d9;--zen-pink-1000:#fbd8e4;--zen-pink-1100:#fde7ef;--zen-pink-1200:#fef5f9;--zen-pink-1300:#fffafc;--zen-aqua-25:#292f36;--zen-aqua-50:#2a333d;--zen-aqua-100:#2d3e50;--zen-aqua-200:#2f4b65;--zen-aqua-300:#315979;--zen-aqua-400:#3673a2;--zen-aqua-500:#3b8ecb;--zen-aqua-600:#41afff;--zen-aqua-700:#71c3ff;--zen-aqua-800:#96d3ff;--zen-aqua-900:#bce3ff;--zen-aqua-1000:#cfebff;--zen-aqua-1100:#e3f3ff;--zen-aqua-1200:#f4faff;--zen-aqua-1300:#f9fdff;--zen-text-100:#1e2124;--zen-text-400:#36393e;--zen-text-800:#8e9091;--zen-text-1000:#bbbcbd;--zen-text-1400:#f8f8f8;--zen-shadow-100:#f0f0f0}*{-webkit-font-smoothing:antialiased;-webkit-tap-highlight-color:transparent;font-family:Mulish,Mulish,Helvetica,Arial,sans-serif}body{box-sizing:border-box;margin:0;padding:0;font-family:Mulish,Mulish,Helvetica,Arial,sans-serif;font-weight:400}.heart{height:100vh;width:100vw;box-sizing:border-box;display:flex;justify-content:center;align-items:center}.loader span{display:inline-block;animation:pulse .5s alternate infinite ease-in-out}.loader span:nth-child(odd){animation-delay:.5s}@keyframes pulse{to{transform:scale(.8);opacity:.7}}</style><link rel=\"stylesheet\" href=\"v/4.0.559/styles.41ebf8e2523b3e01.css\" media=\"print\" onload=\"this.media='all'\"><noscript><link rel=\"stylesheet\" href=\"v/4.0.559/styles.41ebf8e2523b3e01.css\"></noscript><link rel=\"stylesheet\" href=\"v/4.0.559/vendor.145c57c46084f443.css\" media=\"print\" onload=\"this.media='all'\"><noscript><link rel=\"stylesheet\" href=\"v/4.0.559/vendor.145c57c46084f443.css\"></noscript></head>\n",
      "\n",
      "  <body>\n",
      "    <!-- Google Tag Manager (noscript) -->\n",
      "\n",
      "    <noscript><iframe\n",
      "        src=\"https://www.googletagmanager.com/ns.html?id=GTM-NSRR859&gtm_auth=2Obs6MKGpBvVcCJFBFgP7A&gtm_preview=env-325&gtm_cookies_win=x\"\n",
      "        height=\"0\"\n",
      "        width=\"0\"\n",
      "        style=\"display: none; visibility: hidden\"\n",
      "      ></iframe\n",
      "    ></noscript>\n",
      "    <!-- End Google Tag Manager (noscript) -->\n",
      "\n",
      "    <landing-root>\n",
      "      <div class=\"heart\">\n",
      "        <div class=\"loader\">\n",
      "          <span><img src=\"https://files.codingninjas.in/loading-logo-dark-25003.png\" width=\"305px\" height=\"117.5px\"></span>\n",
      "        </div>\n",
      "      </div>\n",
      "    </landing-root>\n",
      "  <script src=\"v/4.0.559/runtime.7558608893ec3ffa.js\" type=\"module\"></script><script src=\"v/4.0.559/polyfills.51e3d390a81c26d9.js\" type=\"module\"></script><script src=\"v/4.0.559/scripts.e85bf7d161100a25.js\" defer></script><script src=\"v/4.0.559/vendor.bd18cfc258316313.js\" type=\"module\"></script><script src=\"v/4.0.559/main.a655e57874dc4518.js\" type=\"module\"></script>\n",
      "\n",
      "</body></html>\n"
     ]
    }
   ],
   "source": [
    "print(response.text)"
   ]
  },
  {
   "cell_type": "markdown",
   "id": "5adce794",
   "metadata": {},
   "source": [
    "Text is used to access the textual response received from an API request. We typically receive a response object that contains various attributes and methods to interact with the response data. The \"text\" attribute specifically refers to the body of the response, which is the textual content returned by the API"
   ]
  },
  {
   "cell_type": "code",
   "execution_count": 5,
   "id": "dedec0d3",
   "metadata": {},
   "outputs": [
    {
     "name": "stdout",
     "output_type": "stream",
     "text": [
      "https://www.codingninjas.com:443/\n"
     ]
    }
   ],
   "source": [
    "print(response.url)"
   ]
  },
  {
   "cell_type": "markdown",
   "id": "4ff49429",
   "metadata": {},
   "source": [
    "URL basically tells the url to which we made the API call."
   ]
  },
  {
   "cell_type": "code",
   "execution_count": 6,
   "id": "6aa5353d",
   "metadata": {},
   "outputs": [
    {
     "name": "stdout",
     "output_type": "stream",
     "text": [
      "{'Content-Type': 'text/html', 'Transfer-Encoding': 'chunked', 'Connection': 'keep-alive', 'x-amz-id-2': 'qFfSiQxrEEGujtAsjONhkKr5aKIpSoVyKtuOU0MAqd6/7Iu7KMCQOQCH1dhEEsQlB22ZeYSgVQc=', 'x-amz-request-id': 'DP4AWRP2G2TF6HEZ', 'Date': 'Tue, 27 Jun 2023 10:06:53 GMT', 'Last-Modified': 'Tue, 27 Jun 2023 10:01:21 GMT', 'ETag': 'W/\"8663e1ac168d3729a07171abec779d73\"', 'Server': 'AmazonS3', 'Content-Encoding': 'gzip', 'Vary': 'Accept-Encoding', 'X-Cache': 'Hit from cloudfront', 'Via': '1.1 abc3ecd1d98ae9cd426d47386509de18.cloudfront.net (CloudFront)', 'X-Amz-Cf-Pop': 'AMS50-C1', 'X-Amz-Cf-Id': '_ok7nxqYPlyWfNaR3cTH0LABD_y9jqyMFL6XJf56jnVf6zlZAhWWrA==', 'Age': '25333', 'cache-control': 'must-revalidate, max-age=300'}\n"
     ]
    }
   ],
   "source": [
    "print(response.headers)"
   ]
  },
  {
   "cell_type": "markdown",
   "id": "67240cf0",
   "metadata": {},
   "source": [
    "The headers attribute allows you to include additional information in the HTTP headers of your request, such as authentication tokens, user agents, or custom headers required by the API."
   ]
  },
  {
   "cell_type": "code",
   "execution_count": 7,
   "id": "8ac395e2",
   "metadata": {},
   "outputs": [
    {
     "name": "stdout",
     "output_type": "stream",
     "text": [
      "<class 'requests.structures.CaseInsensitiveDict'>\n"
     ]
    }
   ],
   "source": [
    "print(type(response.headers))"
   ]
  },
  {
   "cell_type": "markdown",
   "id": "a8cc72be",
   "metadata": {},
   "source": [
    "This shows that the type of header is dictionery"
   ]
  },
  {
   "cell_type": "code",
   "execution_count": 8,
   "id": "e3fd8994",
   "metadata": {},
   "outputs": [
    {
     "name": "stdout",
     "output_type": "stream",
     "text": [
      "keep-alive\n"
     ]
    }
   ],
   "source": [
    "header_info = response.headers\n",
    "print(header_info['Connection'])  # use of headers which is dictionary"
   ]
  },
  {
   "cell_type": "code",
   "execution_count": null,
   "id": "645c83b4",
   "metadata": {},
   "outputs": [],
   "source": []
  },
  {
   "cell_type": "markdown",
   "id": "40fc243b",
   "metadata": {},
   "source": [
    "# JSON "
   ]
  },
  {
   "cell_type": "markdown",
   "id": "f35126fa",
   "metadata": {},
   "source": [
    "JSON (JavaScript Object Notation) is a lightweight data interchange format that is easy for humans to read and write and easy for machines to parse and generate. It is based on a subset of the JavaScript Programming Language"
   ]
  },
  {
   "cell_type": "raw",
   "id": "aced36f3",
   "metadata": {},
   "source": [
    "It has 2 parts :\n",
    "    1. key\n",
    "    2. value"
   ]
  },
  {
   "cell_type": "markdown",
   "id": "f812ed3a",
   "metadata": {},
   "source": [
    "# DATA TYPES "
   ]
  },
  {
   "cell_type": "raw",
   "id": "8ff15a13",
   "metadata": {},
   "source": [
    "1. Primitive Data Type :\n",
    "    . Number\n",
    "    . String\n",
    "    . Boolean\n",
    "    . Null\n",
    "    \n",
    "2. Comlex Data Types :\n",
    "    . Array\n",
    "    . Object"
   ]
  },
  {
   "cell_type": "raw",
   "id": "8d87dae8",
   "metadata": {},
   "source": [
    "JSON                --->           PYTHON"
   ]
  },
  {
   "cell_type": "raw",
   "id": "725091e6",
   "metadata": {},
   "source": [
    "Object              --->           Dict\n",
    "Number              --->           Int, Float\n",
    "Boolean(true,false) --->           Boolean(True,False)\n",
    "String              --->           Str\n",
    "Array               --->           List,Tuple\n",
    "Null                --->           None"
   ]
  },
  {
   "cell_type": "code",
   "execution_count": 9,
   "id": "ffc49908",
   "metadata": {},
   "outputs": [],
   "source": [
    "import json"
   ]
  },
  {
   "cell_type": "code",
   "execution_count": 10,
   "id": "a8b89f48",
   "metadata": {},
   "outputs": [
    {
     "name": "stdout",
     "output_type": "stream",
     "text": [
      "<class 'dict'>\n",
      "Gauransh\n"
     ]
    }
   ],
   "source": [
    "json_data = '{\"Student\" : \"Gauransh\"}'\n",
    "python_data = json.loads(json_data)\n",
    "print(type(python_data))\n",
    "print(python_data['Student'])"
   ]
  },
  {
   "cell_type": "code",
   "execution_count": 11,
   "id": "196f785a",
   "metadata": {},
   "outputs": [
    {
     "name": "stdout",
     "output_type": "stream",
     "text": [
      "<class 'int'>\n",
      "101\n"
     ]
    }
   ],
   "source": [
    "json_data = '{\"Student\" : 101}'\n",
    "python_data = json.loads(json_data)\n",
    "print(type(python_data['Student']))\n",
    "print(python_data['Student'])"
   ]
  },
  {
   "cell_type": "code",
   "execution_count": 12,
   "id": "917ca109",
   "metadata": {},
   "outputs": [
    {
     "name": "stdout",
     "output_type": "stream",
     "text": [
      "<class 'NoneType'>\n",
      "None\n"
     ]
    }
   ],
   "source": [
    "json_data = '{\"Student\" : null}'\n",
    "python_data = json.loads(json_data)\n",
    "print(type(python_data['Student']))\n",
    "print(python_data['Student'])"
   ]
  },
  {
   "cell_type": "code",
   "execution_count": 13,
   "id": "61adb186",
   "metadata": {},
   "outputs": [
    {
     "name": "stdout",
     "output_type": "stream",
     "text": [
      "Gauransh\n",
      "228\n"
     ]
    }
   ],
   "source": [
    "import json\n",
    "json_data = '{\"Student\":{\"Name\" : \"Gauransh\", \"Roll\":228}}'\n",
    "python_data = json.loads(json_data)\n",
    "student_details = python_data['Student']\n",
    "print(student_details['Name'])\n",
    "print(student_details['Roll'])\n",
    "\n"
   ]
  },
  {
   "cell_type": "code",
   "execution_count": null,
   "id": "c1f05fc8",
   "metadata": {},
   "outputs": [],
   "source": []
  },
  {
   "cell_type": "code",
   "execution_count": 14,
   "id": "f47e3c5c",
   "metadata": {},
   "outputs": [
    {
     "name": "stdout",
     "output_type": "stream",
     "text": [
      "<!DOCTYPE html><html lang=\"en\"><head>\n",
      "    <meta charset=\"utf-8\">\n",
      "    <title>Coding Ninjas</title>\n",
      "\n",
      "    <meta name=\"google-site-verification\" content=\"ASe_HQRsu8j61tGt95RROjXi07M380nMuoJ0Mu9rytk\">\n",
      "    <meta name=\"title\" content=\"Coding Ninjas\">\n",
      "    <meta property=\"og:title\" content=\"Coding Ninjas\">\n",
      "    <meta name=\"description\" content=\"Best Programming Institute in India\">\n",
      "    <meta property=\"og:description\" content=\"Best Programming Institute in India\">\n",
      "    <meta property=\"og:image\" content=\"https://files.codingninjas.in/0000000000000723.jpg\">\n",
      "\n",
      "    <script>\n",
      "      let windowLoaded = false;\n",
      "      window.pushEventsToQueue = true;\n",
      "      window.gtmEventQueue = [];\n",
      "      window.gtmEcommerceQueue = [];\n",
      "      window.gtmScriptInit = false;\n",
      "      document.addEventListener('DOMContentLoaded', () => {\n",
      "        const nonDelayedPath = location.pathname.includes('/checkout');\n",
      "        let delayTime = nonDelayedPath ? 0 : 7000;\n",
      "        if (!nonDelayedPath && window.navigator.userAgentData) {\n",
      "          delayTime = window.navigator.userAgentData.mobile ? 10000 : 5000;\n",
      "        }\n",
      "        if (window.gtmEventQueue === undefined) {\n",
      "          window.gtmEventQueue = [];\n",
      "        }\n",
      "        if (window.gtmEcommerceQueue === undefined) {\n",
      "          window.gtmEcommerceQueue = [];\n",
      "        }\n",
      "        document.addEventListener('DOMContentLoaded', () => {\n",
      "          setTimeout(initGTM, delayTime);\n",
      "        });\n",
      "        document.addEventListener('scroll', initGTM);\n",
      "        document.addEventListener('mousemove', initGTM);\n",
      "        document.addEventListener('touchstart', initGTM);\n",
      "        function initGTM() {\n",
      "          if (window.gtmScriptInit) {\n",
      "            return false;\n",
      "          }\n",
      "          const event = new Event('gtm_script_loaded');\n",
      "          window.gtmScriptInit = true; // flag to ensure script does not get added to DOM more than once.\n",
      "          (function (w, d, s, l, i) {\n",
      "            w[l] = w[l] || [];\n",
      "            w[l].push({ 'gtm.start': new Date().getTime(), event: 'gtm.js' });\n",
      "            var f = d.getElementsByTagName(s)[0],\n",
      "              j = d.createElement(s),\n",
      "              dl = l != 'dataLayer' ? '&l=' + l : '';\n",
      "            j.async = true;\n",
      "            j.src =\n",
      "              'https://www.googletagmanager.com/gtm.js?id=' +\n",
      "              i +\n",
      "              dl +\n",
      "              '&gtm_auth=2Obs6MKGpBvVcCJFBFgP7A&gtm_preview=env-325&gtm_cookies_win=x';\n",
      "            f.parentNode.insertBefore(j, f);\n",
      "            j.onload = () => {\n",
      "              window.dispatchEvent(event);\n",
      "              window.gtmScriptInit = true; // flag to ensure script does not get added to DOM more than once\n",
      "              window.pushEventsToQueue = false;\n",
      "            };\n",
      "          })(window, document, 'script', 'dataLayer', 'GTM-NSRR859');\n",
      "        }\n",
      "      });\n",
      "    </script>\n",
      "\n",
      "    <base href=\"/\">\n",
      "    <meta name=\"viewport\" content=\"width=device-width, initial-scale=1.0\">\n",
      "    <meta name=\"theme-color\" content=\"#4e4e4e\">\n",
      "    <link rel=\"manifest\" href=\"manifest.json\">\n",
      "    <link rel=\"icon\" type=\"image/x-icon\" href=\"./favicon.ico\">\n",
      "    <link rel=\"mask-icon\" href=\"assets-landing/icons/icon-192x192.png\" color=\"#4e4e4e\">\n",
      "    <link rel=\"stylesheet\" href=\"https://cdn.jsdelivr.net/npm/animate.css@3.5.2/animate.min.css\" media=\"print\" onload=\"this.media='all'\">\n",
      "    <link rel=\"preconnect\" href=\"https://s3.amazonaws.com\">\n",
      "    <link rel=\"preconnect\" href=\"https://ninjasfiles.s3.amazonaws.com\">\n",
      "    <link rel=\"preconnect\" href=\"https://lh3.googleusercontent.com\">\n",
      "    <link rel=\"preconnect\" href=\"https://connect.facebook.net\">\n",
      "    <link rel=\"preconnect\" href=\"https://files.codingninjas.com\">\n",
      "    <link rel=\"preconnect\" href=\"https://cds.taboola.com\">\n",
      "    <link rel=\"preconnect\" href=\"https://www.google.com\">\n",
      "    <link rel=\"preconnect\" href=\"https://www.facebook.com\">\n",
      "    <link rel=\"preconnect\" href=\"https://apis.google.com\">\n",
      "    <link rel=\"preconnect\" href=\"https://www.google.co.in\">\n",
      "    <link rel=\"preconnect\" href=\"https://googleads.g.doubleclick.net\">\n",
      "    <link rel=\"preconnect\" href=\" https://accounts.google.com\">\n",
      "    <link rel=\"preconnect\" href=\" https://static.cloudflareinsights.com\">\n",
      "    <link rel=\"preconnect\" href=\"https://googleads.g.doubleclick.net\">\n",
      "    <link rel=\"preconnect\" href=\"https://i.ytimg.com\">\n",
      "    <link rel=\"preconnect\" href=\"https://tr.snapchat.com\">\n",
      "    <link rel=\"preconnect\" href=\"https://www.googleadservices.com\">\n",
      "    <link rel=\"preconnect\" href=\" https://code.jivosite.com\">\n",
      "    <link rel=\"preconnect\" href=\"https://www.googletagmanager.com\">\n",
      "    <link rel=\"preload\" href=\"https://files.codingninjas.com/group-3931-8996.svg\" as=\"image\">\n",
      "    <link rel=\"preload\" href=\"https://files.codingninjas.in/438375-17407.webp\" as=\"image\">\n",
      "    <link rel=\"preload\" href=\"https://fonts.gstatic.com/s/materialicons/v70/flUhRq6tzZclQEJ-Vdg-IuiaDsNcIhQ8tQ.woff2\" as=\"font\" type=\"font/woff2\" crossorigin=\"\">\n",
      "    <link rel=\"preload\" href=\"https://fonts.gstatic.com/s/mulish/v3/1Ptwg83HX_SGhgqk2hAjQlW_mEuZ0FsSKeOfGZQ8DzNVwd6k.woff\" as=\"font\" type=\"font/woff\" crossorigin=\"\">\n",
      "\n",
      "    <link rel=\"preload\" href=\"https://files.codingninjas.in/72e3f188-79a1-465f-90ca-27262d769841-8505.png\" as=\"image\">\n",
      "    <style>\n",
      "      @font-face {\n",
      "        font-family: 'Mulish';\n",
      "        font-style: italic;\n",
      "        font-weight: 400;\n",
      "        src: url(https://fonts.gstatic.com/s/mulish/v3/1Ptwg83HX_SGhgqk2hAjQlW_mEuZ0FsSKeOfGZQ8DzNVwd6k.woff)\n",
      "          format('woff');\n",
      "      }\n",
      "      @font-face {\n",
      "        font-family: 'Mulish';\n",
      "        font-style: normal;\n",
      "        font-weight: 300;\n",
      "        font-display: swap;\n",
      "        src: url(https://fonts.gstatic.com/s/mulish/v3/1Ptvg83HX_SGhgqk3wotYKNnBQ.woff2)\n",
      "          format('woff2');\n",
      "      }\n",
      "      @font-face {\n",
      "        font-family: 'Mulish';\n",
      "        font-style: normal;\n",
      "        font-weight: 400;\n",
      "        font-display: swap;\n",
      "        src: url(https://fonts.gstatic.com/s/mulish/v3/1Ptvg83HX_SGhgqk3wotYKNnBQ.woff2)\n",
      "          format('woff');\n",
      "      }\n",
      "      @font-face {\n",
      "        font-family: 'Mulish';\n",
      "        font-style: normal;\n",
      "        font-weight: 600;\n",
      "        font-display: swap;\n",
      "        src: url(https://fonts.gstatic.com/s/mulish/v3/1Ptvg83HX_SGhgqk3wotYKNnBQ.woff2)\n",
      "          format('woff');\n",
      "      }\n",
      "      @font-face {\n",
      "        font-family: 'Mulish';\n",
      "        font-style: normal;\n",
      "        font-weight: 700;\n",
      "        font-display: swap;\n",
      "        src: url(https://fonts.gstatic.com/s/mulish/v3/1Ptvg83HX_SGhgqk3wotYKNnBQ.woff2)\n",
      "          format('woff');\n",
      "      }\n",
      "      @font-face {\n",
      "        font-family: 'Material Icons';\n",
      "        font-style: normal;\n",
      "        font-weight: 400;\n",
      "        src: url(https://fonts.gstatic.com/s/materialicons/v70/flUhRq6tzZclQEJ-Vdg-IuiaDsNcIhQ8tQ.woff2)\n",
      "          format('woff2');\n",
      "      }\n",
      "      .material-icons {\n",
      "        font-family: 'Material Icons';\n",
      "        font-weight: normal;\n",
      "        font-style: normal;\n",
      "        font-size: 24px;\n",
      "        line-height: 1;\n",
      "        letter-spacing: normal;\n",
      "        text-transform: none;\n",
      "        display: inline-block;\n",
      "        white-space: nowrap;\n",
      "        word-wrap: normal;\n",
      "        direction: ltr;\n",
      "        -webkit-font-feature-settings: 'liga';\n",
      "        -webkit-font-smoothing: antialiased;\n",
      "      }\n",
      "\n",
      "      .zen-grid-section-v2 {\n",
      "        padding-left: 16px;\n",
      "        padding-right: 16px;\n",
      "      }\n",
      "\n",
      "      @media screen and (min-width: 600px) {\n",
      "        .zen-grid-section-v2 {\n",
      "          padding-left: 24px;\n",
      "          padding-right: 24px;\n",
      "        }\n",
      "      }\n",
      "\n",
      "      @media screen and (min-width: 960px) {\n",
      "        .zen-grid-section-v2 {\n",
      "          padding-left: 144px;\n",
      "          padding-right: 144px;\n",
      "        }\n",
      "      }\n",
      "    </style>\n",
      "    <link href=\"/jivosite/jivosite.css\" rel=\"stylesheet\">\n",
      "    <script src=\"/jivosite/jivosite.js\" type=\"text/javascript\"></script>\n",
      "    <script type=\"text/javascript\" src=\"https://checkout.razorpay.com/v1/razorpay.js\"></script>\n",
      "\n",
      "    <!-- Start VWO Async SmartCode -->\n",
      "    <script type=\"text/javascript\" id=\"vwoCode\">\n",
      "      window._vwo_code =\n",
      "        window._vwo_code ||\n",
      "        (function () {\n",
      "          var account_id = 659272,\n",
      "            version = 1.4,\n",
      "            settings_tolerance = 2000,\n",
      "            library_tolerance = 2500,\n",
      "            use_existing_jquery = false,\n",
      "            is_spa = 1,\n",
      "            hide_element = 'body',\n",
      "            /* DO NOT EDIT BELOW THIS LINE */\n",
      "            f = false,\n",
      "            d = document,\n",
      "            vwoCodeEl = document.querySelector('#vwoCode'),\n",
      "            code = {\n",
      "              use_existing_jquery: function () {\n",
      "                return use_existing_jquery;\n",
      "              },\n",
      "              library_tolerance: function () {\n",
      "                return library_tolerance;\n",
      "              },\n",
      "              finish: function () {\n",
      "                if (!f) {\n",
      "                  f = true;\n",
      "                  var e = d.getElementById('_vis_opt_path_hides');\n",
      "                  if (e) e.parentNode.removeChild(e);\n",
      "                }\n",
      "              },\n",
      "              finished: function () {\n",
      "                return f;\n",
      "              },\n",
      "              load: function (e) {\n",
      "                var t = d.createElement('script');\n",
      "                t.fetchPriority = 'high';\n",
      "                t.src = e;\n",
      "                t.type = 'text/javascript';\n",
      "                t.innerText;\n",
      "                t.onerror = function () {\n",
      "                  _vwo_code.finish();\n",
      "                };\n",
      "                d.getElementsByTagName('head')[0].appendChild(t);\n",
      "              },\n",
      "              getVersion: function () {\n",
      "                return version;\n",
      "              },\n",
      "              getMatchedCookies: function (e) {\n",
      "                var t = [];\n",
      "                if (document.cookie) {\n",
      "                  t = document.cookie.match(e) || [];\n",
      "                }\n",
      "                return t;\n",
      "              },\n",
      "              getCombinationCookie: function () {\n",
      "                var e = code.getMatchedCookies(\n",
      "                  /(?:^|;)\\s?(_vis_opt_exp_\\d+_combi=[^;$]*)/gi\n",
      "                );\n",
      "                e = e.map(function (e) {\n",
      "                  try {\n",
      "                    var t = decodeURIComponent(e);\n",
      "                    if (!/_vis_opt_exp_\\d+_combi=(?:\\d+,?)+\\s*$/.test(t)) {\n",
      "                      return '';\n",
      "                    }\n",
      "                    return t;\n",
      "                  } catch (e) {\n",
      "                    return '';\n",
      "                  }\n",
      "                });\n",
      "                var i = [];\n",
      "                e.forEach(function (e) {\n",
      "                  var t = e.match(/([\\d,]+)/g);\n",
      "                  t && i.push(t.join('-'));\n",
      "                });\n",
      "                return i.join('|');\n",
      "              },\n",
      "              init: function () {\n",
      "                window.settings_timer = setTimeout(function () {\n",
      "                  _vwo_code.finish();\n",
      "                }, settings_tolerance);\n",
      "                var e = d.createElement('style'),\n",
      "                  t = hide_element\n",
      "                    ? hide_element +\n",
      "                      '{opacity:0 !important;filter:alpha(opacity=0) !important;background:none !important;}'\n",
      "                    : '',\n",
      "                  i = d.getElementsByTagName('head')[0];\n",
      "                e.setAttribute('id', '_vis_opt_path_hides');\n",
      "                vwoCodeEl && e.setAttribute('nonce', vwoCodeEl.nonce);\n",
      "                e.setAttribute('type', 'text/css');\n",
      "                if (e.styleSheet) e.styleSheet.cssText = t;\n",
      "                else e.appendChild(d.createTextNode(t));\n",
      "                i.appendChild(e);\n",
      "                var n = this.getCombinationCookie();\n",
      "                this.load(\n",
      "                  'https://dev.visualwebsiteoptimizer.com/j.php?a=' +\n",
      "                    account_id +\n",
      "                    '&u=' +\n",
      "                    encodeURIComponent(d.URL) +\n",
      "                    '&f=' +\n",
      "                    +is_spa +\n",
      "                    '&vn=' +\n",
      "                    version +\n",
      "                    (n ? '&c=' + n : '')\n",
      "                );\n",
      "                return settings_timer;\n",
      "              },\n",
      "            };\n",
      "          window._vwo_settings_timer = code.init();\n",
      "          return code;\n",
      "        })();\n",
      "    </script>\n",
      "    <!-- End VWO Async SmartCode -->\n",
      "  <style>:root{--green-900:#00631f;--green-800:#00752e;--green-700:#007f36;--green-600:#008a3e;--green-500:#009245;--green-400:#26a261;--green-350:#7fd7a4;--green-300:#4db37d;--green-250:#65b168;--green-200:#80c9a2;--green-100:#b3dec7;--green-70:#37833b;--green-60:#43a047;--green-50:#e0f2e9;--green-30:#d2f7f2;--green-20:#cbe5cc;--green-A100:#3f6864;--green-A70:#0bb09f;--grey-B1000:#1e2124;--grey-B500:#1a202c;--grey-B100:#8e9091;--grey-1000:#19191d;--grey-950:#282b30;--grey-900:#212121;--grey-800:#424242;--grey-750:#424549;--grey-700:#616161;--grey-600:#757575;--grey-500:#9e9e9e;--grey-400:#bdbdbd;--grey-300:#e0e0e0;--grey-200:#eeeeee;--grey-100:#f5f5f5;--grey-90:#292a31;--grey-80:#3a3a44;--grey-70:#4a4b57;--grey-60:#5a5b6a;--grey-50:#fafafa;--grey-40:#9696a0;--grey-30:#b4b4bb;--grey-20:#d2d2d6;--grey-10:#e1e1e3;--grey-5:#f0f0f1;--grey-0:#f9f9fa;--grey-A800:#1e2124;--grey-A700:#000000;--grey-A650:#626466;--grey-A350:#bbbcbd;--grey-A300:#9696a0;--grey-A600:#19191d;--grey-A500:#787885;--grey-A450:#d2d3d3;--grey-A400:#343434;--grey-A250:#f1f2f2;--grey-A200:#d0d0d0;--grey-A150:#d9d9d9;--grey-A100:#ffffff;--orange-1000:#fb813e;--orange-900:#f6430f;--orange-850:#ff6060;--orange-800:#f85618;--orange-700:#f9601e;--orange-600:#f96b24;--orange-500:#fa7328;--orange-550:#fb813e;--orange-400:#fb8848;--orange-300:#fc9d69;--orange-200:#fdb994;--orange-100:#fed5bf;--orange-90:#af511c;--orange-80:#c85c20;--orange-70:#e16824;--orange-60:#fa7328;--orange-50:#feeee5;--orange-40:#fb8f53;--orange-30:#fc9d69;--orange-20:#fdc7a9;--orange-10:#fed5bf;--orange-5:#fff1ea;--orange-0:#faf7f2;--orange-A700:#fbab7e;--orange-A600:#fca16e;--orange-A500:#fff9f5;--red-900:#b30108;--red-800:#be0110;--red-700:#c40114;--red-600:#cb0218;--red-500:#d0021b;--red-400:#d7283d;--red-300:#de4e5f;--red-200:#e8818d;--red-100:#f1b3bb;--red-60:#f44336;--red-50:#f9e1e4;--red-A600:#f6655a;--purple-900:#3400e2;--purple-800:#4600e7;--purple-700:#5000e9;--purple-600:#5a00ec;--purple-500:#6200ee;--purple-400:#7a26f1;--purple-300:#914df3;--purple-200:#b180f7;--purple-100:#d0b3fa;--purple-70:#8b7fd7;--purple-60:#2f154c;--purple-50:#421d68;--purple-40:#7533b7;--purple-30:#dee7fc;--purple-10:#faf6ff;--purple-A100:#82455e;--purple-LIGHT1300:#fafafd;--purple-LIGHT500:#5341a0;--purple-LIGHT300:#3d3465;--pink-900:#8a004e;--pink-800:#b00054;--pink-700:#c50058;--pink-600:#db005c;--pink-500:#ec005e;--pink-400:#ee0978;--pink-300:#f14d91;--pink-250:#d781ac;--pink-200:#f484b1;--pink-100:#f8b5d0;--pink-60:#f1639e;--pink-50:#fce2ec;--pink-30:#fed7e7;--blue-1300:#fafbfe;--blue-1100:#30374d;--blue-1000:#d5dff9;--blue-700:#425996;--blue-600:#5780e9;--blue-500:#112c67;--blue-400:#e6f0ff;--blue-100:#435377;--blue-70:#496ec5;--blue-60:#557cd9;--blue-50:#04439f;--blue-40:#0a6dff;--blue-10:#b6d3ff;--blue-5:#f3f8ff;--blue-A100:#435377;--blue-A200:#f5f7fe;--blue-A300:#5780e9;--violet-60:#1d195e;--yellow-1200:#fffbf4;--yellow-700:#d1941a;--yellow-500:#ffc147;--yellow-100:#f3a805;--yellow-70:#eaa30a;--yellow-50:#fff8ea;--yellow-40:#d7a07f}body{--zen-neutral-100:#1e2124;--zen-neutral-200:#23262a;--zen-neutral-300:#282b30;--zen-neutral-400:#36393e;--zen-neutral-500:#424549;--zen-neutral-600:#626466;--zen-neutral-700:#787a7c;--zen-neutral-800:#8e9091;--zen-neutral-900:#a5a6a7;--zen-neutral-1000:#bbbcbd;--zen-neutral-1100:#d2d3d3;--zen-neutral-1200:#e8e9e9;--zen-neutral-1300:#ffffff;--zen-neutral-1400:#f8f8f8;--zen-neutral-1500:#f1f2f2;--zen-primary-25:#282627;--zen-primary-50:#332c2c;--zen-primary-100:#483733;--zen-primary-200:#5e3f35;--zen-primary-300:#734836;--zen-primary-400:#9c5a38;--zen-primary-500:#c66b3a;--zen-primary-600:#fb813e;--zen-primary-700:#fca16e;--zen-primary-800:#fdba95;--zen-primary-900:#fed3bc;--zen-primary-1000:#fedfcf;--zen-primary-1100:#feece2;--zen-primary-1200:#fff7f3;--zen-primary-1300:#fffbf8;--zen-blue-25:#2a2d36;--zen-blue-50:#2b303c;--zen-blue-100:#30374d;--zen-blue-200:#35405f;--zen-blue-300:#394871;--zen-blue-400:#425996;--zen-blue-500:#4c6bbb;--zen-blue-600:#5780e9;--zen-blue-700:#81a0ef;--zen-blue-800:#a3b9f3;--zen-blue-900:#c4d3f7;--zen-blue-1000:#d5dff9;--zen-blue-1100:#e6ecfc;--zen-blue-1200:#f5f7fe;--zen-blue-1300:#fafbfe;--zen-purple-25:#2a2c35;--zen-purple-50:#2c2d39;--zen-purple-100:#322f47;--zen-purple-200:#383156;--zen-purple-300:#3d3465;--zen-purple-400:#483b82;--zen-purple-500:#5341a0;--zen-purple-600:#6249c5;--zen-purple-700:#8977d4;--zen-purple-800:#a99bdf;--zen-purple-900:#c8bfeb;--zen-purple-1000:#d8d1f0;--zen-purple-1100:#e8e4f6;--zen-purple-1200:#f6f4fb;--zen-purple-1300:#fafafd;--zen-red-25:#2e2d31;--zen-red-50:#352e33;--zen-red-100:#483337;--zen-red-200:#5d383c;--zen-red-300:#713e3f;--zen-red-400:#994a47;--zen-red-500:#c2564f;--zen-red-600:#f6655a;--zen-red-700:#f88c83;--zen-red-800:#faaaa4;--zen-red-900:#fcc9c5;--zen-red-1000:#fdd8d6;--zen-red-1100:#fee8e6;--zen-red-1200:#fff6f5;--zen-red-1300:#fffafa;--zen-yellow-25:#2f2f31;--zen-yellow-50:#353432;--zen-yellow-100:#494135;--zen-yellow-200:#5f4f37;--zen-yellow-300:#745e39;--zen-yellow-400:#9e7d3d;--zen-yellow-500:#c99b41;--zen-yellow-600:#ffc147;--zen-yellow-700:#ffd175;--zen-yellow-800:#ffdd9a;--zen-yellow-900:#ffe9bf;--zen-yellow-1000:#ffefd1;--zen-yellow-1100:#fff6e4;--zen-yellow-1200:#fffbf4;--zen-yellow-1300:#fffdfa;--zen-green-25:#2a2f32;--zen-green-50:#2c3334;--zen-green-100:#323e39;--zen-green-200:#384b3f;--zen-green-300:#3e5944;--zen-green-400:#49744f;--zen-green-500:#568f5a;--zen-green-600:#65b168;--zen-green-700:#8cc58e;--zen-green-800:#aad4ac;--zen-green-900:#c9e4ca;--zen-green-1000:#d8ebd9;--zen-green-1100:#e8f3e8;--zen-green-1200:#f6faf6;--zen-green-1300:#fafdfa;--zen-teal-25:#202b2f;--zen-teal-50:#192a2e;--zen-teal-100:#02292a;--zen-teal-200:#034545;--zen-teal-300:#046061;--zen-teal-400:#057b7c;--zen-teal-500:#069697;--zen-teal-600:#33a9a9;--zen-teal-700:#60bcbc;--zen-teal-800:#8dcfcf;--zen-teal-900:#bbe2e2;--zen-teal-1000:#d1ebec;--zen-teal-1100:#e8f5f5;--zen-teal-1200:#f6fbfb;--zen-teal-1300:#fafdfd;--zen-pink-25:#2e2c33;--zen-pink-50:#342e36;--zen-pink-100:#473240;--zen-pink-200:#5b3849;--zen-pink-300:#6e3e53;--zen-pink-400:#964966;--zen-pink-500:#bd547a;--zen-pink-600:#ef6292;--zen-pink-700:#f389ad;--zen-pink-800:#f6a9c3;--zen-pink-900:#f9c8d9;--zen-pink-1000:#fbd8e4;--zen-pink-1100:#fde7ef;--zen-pink-1200:#fef5f9;--zen-pink-1300:#fffafc;--zen-aqua-25:#292f36;--zen-aqua-50:#2a333d;--zen-aqua-100:#2d3e50;--zen-aqua-200:#2f4b65;--zen-aqua-300:#315979;--zen-aqua-400:#3673a2;--zen-aqua-500:#3b8ecb;--zen-aqua-600:#41afff;--zen-aqua-700:#71c3ff;--zen-aqua-800:#96d3ff;--zen-aqua-900:#bce3ff;--zen-aqua-1000:#cfebff;--zen-aqua-1100:#e3f3ff;--zen-aqua-1200:#f4faff;--zen-aqua-1300:#f9fdff;--zen-text-100:#1e2124;--zen-text-400:#36393e;--zen-text-800:#8e9091;--zen-text-1000:#bbbcbd;--zen-text-1400:#f8f8f8;--zen-shadow-100:#f0f0f0}*{-webkit-font-smoothing:antialiased;-webkit-tap-highlight-color:transparent;font-family:Mulish,Mulish,Helvetica,Arial,sans-serif}body{box-sizing:border-box;margin:0;padding:0;font-family:Mulish,Mulish,Helvetica,Arial,sans-serif;font-weight:400}.heart{height:100vh;width:100vw;box-sizing:border-box;display:flex;justify-content:center;align-items:center}.loader span{display:inline-block;animation:pulse .5s alternate infinite ease-in-out}.loader span:nth-child(odd){animation-delay:.5s}@keyframes pulse{to{transform:scale(.8);opacity:.7}}</style><link rel=\"stylesheet\" href=\"v/4.0.559/styles.41ebf8e2523b3e01.css\" media=\"print\" onload=\"this.media='all'\"><noscript><link rel=\"stylesheet\" href=\"v/4.0.559/styles.41ebf8e2523b3e01.css\"></noscript><link rel=\"stylesheet\" href=\"v/4.0.559/vendor.145c57c46084f443.css\" media=\"print\" onload=\"this.media='all'\"><noscript><link rel=\"stylesheet\" href=\"v/4.0.559/vendor.145c57c46084f443.css\"></noscript></head>\n",
      "\n",
      "  <body>\n",
      "    <!-- Google Tag Manager (noscript) -->\n",
      "\n",
      "    <noscript><iframe\n",
      "        src=\"https://www.googletagmanager.com/ns.html?id=GTM-NSRR859&gtm_auth=2Obs6MKGpBvVcCJFBFgP7A&gtm_preview=env-325&gtm_cookies_win=x\"\n",
      "        height=\"0\"\n",
      "        width=\"0\"\n",
      "        style=\"display: none; visibility: hidden\"\n",
      "      ></iframe\n",
      "    ></noscript>\n",
      "    <!-- End Google Tag Manager (noscript) -->\n",
      "\n",
      "    <landing-root>\n",
      "      <div class=\"heart\">\n",
      "        <div class=\"loader\">\n",
      "          <span><img src=\"https://files.codingninjas.in/loading-logo-dark-25003.png\" width=\"305px\" height=\"117.5px\"></span>\n",
      "        </div>\n",
      "      </div>\n",
      "    </landing-root>\n",
      "  <script src=\"v/4.0.559/runtime.7558608893ec3ffa.js\" type=\"module\"></script><script src=\"v/4.0.559/polyfills.51e3d390a81c26d9.js\" type=\"module\"></script><script src=\"v/4.0.559/scripts.e85bf7d161100a25.js\" defer></script><script src=\"v/4.0.559/vendor.bd18cfc258316313.js\" type=\"module\"></script><script src=\"v/4.0.559/main.a655e57874dc4518.js\" type=\"module\"></script>\n",
      "\n",
      "</body></html>\n",
      "https://www.codingninjas.com:443/\n"
     ]
    }
   ],
   "source": [
    "import requests\n",
    "response = requests.get('https://www.codingninjas.in/api/v3/courses')\n",
    "print(response.text)\n",
    "print(response.url)"
   ]
  },
  {
   "cell_type": "code",
   "execution_count": null,
   "id": "1e67b8b8",
   "metadata": {},
   "outputs": [],
   "source": []
  },
  {
   "cell_type": "code",
   "execution_count": 15,
   "id": "47dc5c9b",
   "metadata": {},
   "outputs": [
    {
     "name": "stdout",
     "output_type": "stream",
     "text": [
      "Response is not in JSON format.\n"
     ]
    }
   ],
   "source": [
    "import requests\n",
    "import json\n",
    "\n",
    "try:\n",
    "    response = requests.get('https://www.codingninjas.in/api/v3/courses')\n",
    "\n",
    "    # Check if the request was successful (status code 200)\n",
    "    if response.status_code == 200:\n",
    "        # Check the content type to ensure it is JSON\n",
    "        if 'application/json' in response.headers.get('Content-Type', ''):\n",
    "            # Load the JSON data into a Python dictionary\n",
    "            python_data = json.loads(response.text)\n",
    "            # Print the Python dictionary\n",
    "            print(python_data)\n",
    "        else:\n",
    "            print('Response is not in JSON format.')\n",
    "    else:\n",
    "        print('Request failed with status code:', response.status_code)\n",
    "\n",
    "except requests.RequestException as e:\n",
    "    print('An error occurred:', e)\n"
   ]
  },
  {
   "cell_type": "code",
   "execution_count": null,
   "id": "a8757acb",
   "metadata": {},
   "outputs": [],
   "source": []
  }
 ],
 "metadata": {
  "kernelspec": {
   "display_name": "Python 3",
   "language": "python",
   "name": "python3"
  },
  "language_info": {
   "codemirror_mode": {
    "name": "ipython",
    "version": 3
   },
   "file_extension": ".py",
   "mimetype": "text/x-python",
   "name": "python",
   "nbconvert_exporter": "python",
   "pygments_lexer": "ipython3",
   "version": "3.8.8"
  }
 },
 "nbformat": 4,
 "nbformat_minor": 5
}
